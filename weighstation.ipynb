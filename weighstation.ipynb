{
 "cells": [
  {
   "cell_type": "code",
   "execution_count": 1,
   "id": "db498277-5664-43a4-8fc6-610821987736",
   "metadata": {},
   "outputs": [],
   "source": [
    "import csv\n",
    "import sqlite3\n",
    "import pandas as pd\n",
    "from contextlib import closing\n",
    "from time import sleep\n",
    "from pyacaia import AcaiaScale"
   ]
  },
  {
   "cell_type": "code",
   "execution_count": 31,
   "id": "65ca66d6-4a68-4d51-b4e2-b2bfa3d0917b",
   "metadata": {},
   "outputs": [
    {
     "name": "stdout",
     "output_type": "stream",
     "text": [
      "Please enter the name of the file:\n"
     ]
    },
    {
     "name": "stdin",
     "output_type": "stream",
     "text": [
      " 20_2_5_260_10_3\n"
     ]
    },
    {
     "name": "stdout",
     "output_type": "stream",
     "text": [
      "Which Hotend is this:\n"
     ]
    },
    {
     "name": "stdin",
     "output_type": "stream",
     "text": [
      " v6\n"
     ]
    },
    {
     "name": "stdout",
     "output_type": "stream",
     "text": [
      "What nozzle type:\n"
     ]
    },
    {
     "name": "stdin",
     "output_type": "stream",
     "text": [
      " cht\n"
     ]
    },
    {
     "name": "stdout",
     "output_type": "stream",
     "text": [
      "And the diameter of the nozzle:\n"
     ]
    },
    {
     "name": "stdin",
     "output_type": "stream",
     "text": [
      " 0.5\n"
     ]
    },
    {
     "name": "stdout",
     "output_type": "stream",
     "text": [
      "What is the wattage of the heater:\n"
     ]
    },
    {
     "name": "stdin",
     "output_type": "stream",
     "text": [
      " 40\n"
     ]
    }
   ],
   "source": [
    "print('Please enter the name of the file:')\n",
    "filename = input()\n",
    "print('Which Hotend is this:')\n",
    "hotend = input()\n",
    "print('What nozzle type:')\n",
    "nozzle_type = input()\n",
    "print('And the diameter of the nozzle:')\n",
    "nozzle_diameter = input()\n",
    "print('What is the wattage of the heater:')\n",
    "heater_wattage = input()\n",
    "splitfile = filename.split('_')"
   ]
  },
  {
   "cell_type": "code",
   "execution_count": 32,
   "id": "5914f354-2376-42f3-85a8-7bc9860a9463",
   "metadata": {},
   "outputs": [
    {
     "name": "stderr",
     "output_type": "stream",
     "text": [
      "INFO:root:Scale Ready!\n"
     ]
    }
   ],
   "source": [
    "scale=AcaiaScale(mac='34:81:f4:de:de:a7')\n",
    "scale.connect()"
   ]
  },
  {
   "cell_type": "code",
   "execution_count": 33,
   "id": "19dde806-f065-4360-a1db-cd1379f506c4",
   "metadata": {},
   "outputs": [
    {
     "data": {
      "text/plain": [
       "0.06"
      ]
     },
     "execution_count": 33,
     "metadata": {},
     "output_type": "execute_result"
    }
   ],
   "source": [
    "scale.weight"
   ]
  },
  {
   "cell_type": "code",
   "execution_count": 34,
   "id": "b509b98a-2529-46e3-ba3a-b0fab4c2b7d3",
   "metadata": {},
   "outputs": [],
   "source": [
    "flow_start = int(splitfile[0])\n",
    "flow_step_increase = int(splitfile[1])\n",
    "flow_steps = int(splitfile[2])\n",
    "flow_end = flow_start + ((flow_steps - 1) * flow_step_increase)\n",
    "temp_start = int(splitfile[3])\n",
    "temp_step_increase = int(splitfile[4])\n",
    "temp_steps = int(splitfile[5].split('.')[0])\n",
    "temp_end = temp_start + ((temp_steps - 1) * temp_step_increase)\n",
    "extruded_blobs_to_weigh = flow_steps * temp_steps\n",
    "flow_step_measured_count = 0\n",
    "temp_step_measured_count = 0\n",
    "flow_table = {}"
   ]
  },
  {
   "cell_type": "code",
   "execution_count": 10,
   "id": "109604f8-6d8b-4cc0-9d76-914cfa180ec5",
   "metadata": {},
   "outputs": [
    {
     "data": {
      "text/plain": [
       "4"
      ]
     },
     "execution_count": 10,
     "metadata": {},
     "output_type": "execute_result"
    }
   ],
   "source": [
    "temp_steps"
   ]
  },
  {
   "cell_type": "code",
   "execution_count": 35,
   "id": "14d5c4d3-3c37-4028-9f15-3b5583cd530e",
   "metadata": {},
   "outputs": [
    {
     "name": "stdout",
     "output_type": "stream",
     "text": [
      "Hit enter once you have placed the blob on the scale for 260C at 20mm/s^3\n"
     ]
    },
    {
     "name": "stdin",
     "output_type": "stream",
     "text": [
      " \n"
     ]
    },
    {
     "name": "stdout",
     "output_type": "stream",
     "text": [
      "Recording a weight of 0.96\n",
      "Hit enter once you have placed the blob on the scale for 260C at 22mm/s^3\n"
     ]
    },
    {
     "name": "stdin",
     "output_type": "stream",
     "text": [
      " \n"
     ]
    },
    {
     "name": "stdout",
     "output_type": "stream",
     "text": [
      "Recording a weight of 0.94\n",
      "Hit enter once you have placed the blob on the scale for 260C at 24mm/s^3\n"
     ]
    },
    {
     "name": "stdin",
     "output_type": "stream",
     "text": [
      " \n"
     ]
    },
    {
     "name": "stdout",
     "output_type": "stream",
     "text": [
      "Recording a weight of 0.9\n",
      "Hit enter once you have placed the blob on the scale for 260C at 26mm/s^3\n"
     ]
    },
    {
     "name": "stdin",
     "output_type": "stream",
     "text": [
      " \n"
     ]
    },
    {
     "name": "stdout",
     "output_type": "stream",
     "text": [
      "Recording a weight of 0.8\n",
      "Hit enter once you have placed the blob on the scale for 260C at 28mm/s^3\n"
     ]
    },
    {
     "name": "stdin",
     "output_type": "stream",
     "text": [
      " \n"
     ]
    },
    {
     "name": "stdout",
     "output_type": "stream",
     "text": [
      "Recording a weight of 0.71\n",
      "Hit enter once you have placed the blob on the scale for 270C at 20mm/s^3\n"
     ]
    },
    {
     "name": "stdin",
     "output_type": "stream",
     "text": [
      " \n"
     ]
    },
    {
     "name": "stdout",
     "output_type": "stream",
     "text": [
      "Recording a weight of 0.95\n",
      "Hit enter once you have placed the blob on the scale for 270C at 22mm/s^3\n"
     ]
    },
    {
     "name": "stdin",
     "output_type": "stream",
     "text": [
      " \n"
     ]
    },
    {
     "name": "stdout",
     "output_type": "stream",
     "text": [
      "Recording a weight of 0.96\n",
      "Hit enter once you have placed the blob on the scale for 270C at 24mm/s^3\n"
     ]
    },
    {
     "name": "stdin",
     "output_type": "stream",
     "text": [
      " \n"
     ]
    },
    {
     "name": "stdout",
     "output_type": "stream",
     "text": [
      "Recording a weight of 0.94\n",
      "Hit enter once you have placed the blob on the scale for 270C at 26mm/s^3\n"
     ]
    },
    {
     "name": "stdin",
     "output_type": "stream",
     "text": [
      " \n"
     ]
    },
    {
     "name": "stdout",
     "output_type": "stream",
     "text": [
      "Recording a weight of 0.9\n",
      "Hit enter once you have placed the blob on the scale for 270C at 28mm/s^3\n"
     ]
    },
    {
     "name": "stdin",
     "output_type": "stream",
     "text": [
      " \n"
     ]
    },
    {
     "name": "stdout",
     "output_type": "stream",
     "text": [
      "Recording a weight of 0.82\n",
      "Hit enter once you have placed the blob on the scale for 280C at 20mm/s^3\n"
     ]
    },
    {
     "name": "stdin",
     "output_type": "stream",
     "text": [
      " \n"
     ]
    },
    {
     "name": "stdout",
     "output_type": "stream",
     "text": [
      "Recording a weight of 0.96\n",
      "Hit enter once you have placed the blob on the scale for 280C at 22mm/s^3\n"
     ]
    },
    {
     "name": "stdin",
     "output_type": "stream",
     "text": [
      " \n"
     ]
    },
    {
     "name": "stdout",
     "output_type": "stream",
     "text": [
      "Recording a weight of 0.95\n",
      "Hit enter once you have placed the blob on the scale for 280C at 24mm/s^3\n"
     ]
    },
    {
     "name": "stdin",
     "output_type": "stream",
     "text": [
      " \n"
     ]
    },
    {
     "name": "stdout",
     "output_type": "stream",
     "text": [
      "Recording a weight of 0.95\n",
      "Hit enter once you have placed the blob on the scale for 280C at 26mm/s^3\n"
     ]
    },
    {
     "name": "stdin",
     "output_type": "stream",
     "text": [
      " \n"
     ]
    },
    {
     "name": "stdout",
     "output_type": "stream",
     "text": [
      "Recording a weight of 0.95\n",
      "Hit enter once you have placed the blob on the scale for 280C at 28mm/s^3\n"
     ]
    },
    {
     "name": "stdin",
     "output_type": "stream",
     "text": [
      " \n"
     ]
    },
    {
     "name": "stdout",
     "output_type": "stream",
     "text": [
      "Recording a weight of 0.91\n",
      "Done recording!\n"
     ]
    }
   ],
   "source": [
    "while temp_step_measured_count < temp_steps:\n",
    "    scale_not_reading = False\n",
    "    temp_step = temp_start + (temp_step_measured_count * temp_step_increase)\n",
    "    flow_table[temp_step] = {}\n",
    "    while flow_step_measured_count < flow_steps:\n",
    "        flow_step = flow_start + (flow_step_measured_count * flow_step_increase)\n",
    "        print(f'Hit enter once you have placed the blob on the scale for {temp_step}C at {flow_step}mm/s^3')\n",
    "        input()\n",
    "        weight_count = 0\n",
    "        measured_weights = []\n",
    "        while weight_count < 6:\n",
    "            measured_weight = scale.weight\n",
    "            if measured_weight == 'None':\n",
    "                print('Scale is not recording, please reconnect and try again.')\n",
    "                scale_not_reading = True\n",
    "                break\n",
    "            measured_weights.append(scale.weight)\n",
    "            sleep(0.2)\n",
    "            weight_count += 1\n",
    "        averaged_weight = round(sum(measured_weights) / len(measured_weights),2)\n",
    "        print(f'Recording a weight of {averaged_weight}')\n",
    "        flow_table[temp_step][flow_step] = averaged_weight\n",
    "        flow_step_measured_count += 1\n",
    "    if scale_not_reading:\n",
    "        break\n",
    "    flow_step_measured_count = 0\n",
    "    temp_step_measured_count += 1\n",
    "print('Done recording!')"
   ]
  },
  {
   "cell_type": "code",
   "execution_count": 36,
   "id": "c4824a90-df50-4ab1-8167-ec6c96c92c48",
   "metadata": {},
   "outputs": [
    {
     "data": {
      "text/plain": [
       "{260: {20: 0.96, 22: 0.94, 24: 0.9, 26: 0.8, 28: 0.71},\n",
       " 270: {20: 0.95, 22: 0.96, 24: 0.94, 26: 0.9, 28: 0.82},\n",
       " 280: {20: 0.96, 22: 0.95, 24: 0.95, 26: 0.95, 28: 0.91}}"
      ]
     },
     "execution_count": 36,
     "metadata": {},
     "output_type": "execute_result"
    }
   ],
   "source": [
    "flow_table"
   ]
  },
  {
   "cell_type": "code",
   "execution_count": 13,
   "id": "85307795-e5d4-47d8-bff5-8fa2d00fd14e",
   "metadata": {},
   "outputs": [],
   "source": [
    "flow_table = {230: {10: 1.03, 12: 1.01, 14: 1.02, 16: 0.95, 18: 0.83},\n",
    " 240: {10: 1.04, 12: 1.03, 14: 1.04, 16: 1.03, 18: 1.01},\n",
    " 250: {10: 1.04, 12: 1.08, 14: 1.06, 16: 1.06, 18: 1.06},\n",
    " 260: {10: 1.10, 12: 1.07, 14: 1.07, 16: 1.07, 18: 1.07}}"
   ]
  },
  {
   "cell_type": "code",
   "execution_count": 37,
   "id": "2139f222-570e-4c7c-9fbb-5656d1c85e41",
   "metadata": {},
   "outputs": [],
   "source": [
    "with open(f'assets/csv/{hotend}_{nozzle_type}_{nozzle_diameter}_{heater_wattage}w_{flow_start}-{flow_end}_{temp_start}-{temp_end}.csv', 'w') as f:\n",
    "    f.write('hotend, nozzle, nozzle_diameter, heater_wattage, temperature, flow_rate, measured_weight\\n')\n",
    "    for temp in flow_table.keys():\n",
    "        for rate in flow_table[temp].keys():\n",
    "            f.write(f'{hotend}, {nozzle_type}, {nozzle_diameter}, {heater_wattage}, {temp}, {rate}, {flow_table[temp][rate]}\\n')"
   ]
  },
  {
   "cell_type": "code",
   "execution_count": 38,
   "id": "af3046c3-c50d-4c89-8aa7-4eea2ac7b773",
   "metadata": {},
   "outputs": [],
   "source": [
    "connection = sqlite3.connect(\"flow_rates.db\")\n",
    "cur = connection.cursor()"
   ]
  },
  {
   "cell_type": "code",
   "execution_count": 39,
   "id": "13a34a6b-35c3-4701-ae71-16c6d6d117a6",
   "metadata": {},
   "outputs": [],
   "source": [
    "for temp in flow_table.keys():\n",
    "    for rate in flow_table[temp].keys():\n",
    "        cur.execute(f\"INSERT INTO flow_rate_data ('hotend', 'nozzle', 'nozzle_diameter', 'heater_wattage', 'temperature', 'flow_rate', 'measured_weight') VALUES ('{hotend}', '{nozzle_type}', '{nozzle_diameter}', '{heater_wattage}', '{temp}', '{rate}', '{flow_table[temp][rate]}')\")\n",
    "connection.commit()\n",
    "connection.close()"
   ]
  },
  {
   "cell_type": "code",
   "execution_count": 40,
   "id": "67a39da6-bfe1-4728-a054-e7e9a4467f89",
   "metadata": {},
   "outputs": [
    {
     "data": {
      "image/png": "[encoded data removed]",
      "text/plain": [
       "<Figure size 640x480 with 1 Axes>"
      ]
     },
     "metadata": {},
     "output_type": "display_data"
    }
   ],
   "source": [
    "data = pd.DataFrame(flow_table)\n",
    "dataplot = data.plot(xlabel='Flow Rate', ylabel='Measured Weight', title=f'{hotend} {heater_wattage}w\\n{nozzle_type} {nozzle_diameter}mm')\n",
    "datapng = dataplot.get_figure()\n",
    "datapng.savefig(f\"assets/img/{hotend}_{nozzle_type}_{nozzle_diameter}_{heater_wattage}w_{temp_start}C-{temp_end}C_{flow_start}-{flow_end}.png\")"
   ]
  },
  {
   "cell_type": "code",
   "execution_count": null,
   "id": "5bbe9f45-70df-43d3-828a-f5ca6e5b5bac",
   "metadata": {},
   "outputs": [],
   "source": []
  }
 ],
 "metadata": {
  "kernelspec": {
   "display_name": "Python 3 (ipykernel)",
   "language": "python",
   "name": "python3"
  },
  "language_info": {
   "codemirror_mode": {
    "name": "ipython",
    "version": 3
   },
   "file_extension": ".py",
   "mimetype": "text/x-python",
   "name": "python",
   "nbconvert_exporter": "python",
   "pygments_lexer": "ipython3",
   "version": "3.8.10"
  }
 },
 "nbformat": 4,
 "nbformat_minor": 5
}
